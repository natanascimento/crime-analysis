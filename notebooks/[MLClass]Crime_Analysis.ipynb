{
  "nbformat": 4,
  "nbformat_minor": 0,
  "metadata": {
    "colab": {
      "name": "[MLClass] Crime Analysis.ipynb",
      "provenance": [],
      "collapsed_sections": [],
      "include_colab_link": true
    },
    "kernelspec": {
      "name": "python3",
      "display_name": "Python 3"
    },
    "language_info": {
      "name": "python"
    }
  },
  "cells": [
    {
      "cell_type": "markdown",
      "metadata": {
        "id": "view-in-github",
        "colab_type": "text"
      },
      "source": [
        "<a href=\"https://colab.research.google.com/github/natanascimento/crime-analysis/blob/main/notebooks/%5BMLClass%5DCrime_Analysis.ipynb\" target=\"_parent\"><img src=\"https://colab.research.google.com/assets/colab-badge.svg\" alt=\"Open In Colab\"/></a>"
      ]
    },
    {
      "cell_type": "markdown",
      "metadata": {
        "id": "r_2oeeSxeMGP"
      },
      "source": [
        "# Crime Analysis"
      ]
    },
    {
      "cell_type": "markdown",
      "metadata": {
        "id": "UjZ8g0NJePH7"
      },
      "source": [
        "## Importando bibliotecas necessárias"
      ]
    },
    {
      "cell_type": "code",
      "metadata": {
        "id": "8FB8584fatiq"
      },
      "source": [
        "import pandas as pd\n",
        "import scipy.cluster.hierarchy as shc\n",
        "from sklearn.cluster import KMeans\n",
        "from sklearn import metrics\n",
        "from sklearn import preprocessing\n",
        "from sklearn.cluster import AgglomerativeClustering\n",
        "import seaborn as sns\n",
        "import matplotlib.pyplot as plt\n",
        "%matplotlib inline"
      ],
      "execution_count": 154,
      "outputs": []
    },
    {
      "cell_type": "markdown",
      "metadata": {
        "id": "Za5XWb-2eVse"
      },
      "source": [
        "## Criando dataframe a partir do dataset no GitHub"
      ]
    },
    {
      "cell_type": "code",
      "metadata": {
        "id": "eGfHu89a6a_Z"
      },
      "source": [
        "dataset_url = \"https://github.com/natanascimento/crime-analysis/blob/main/data/indicadoressegurancapublicauf.xlsx?raw=true\"\n",
        "\n",
        "df = pd.read_excel(dataset_url, sheet_name=\"Ocorrências\")"
      ],
      "execution_count": 155,
      "outputs": []
    },
    {
      "cell_type": "markdown",
      "metadata": {
        "id": "Rxitw6Y7eKCe"
      },
      "source": [
        "## Removendo dados do ano de 2021, pois não possui todos os meses. "
      ]
    },
    {
      "cell_type": "code",
      "metadata": {
        "id": "LdCuHLA3sNHS"
      },
      "source": [
        "df = df.drop(df[df['Ano'] == 2021].index)"
      ],
      "execution_count": 156,
      "outputs": []
    },
    {
      "cell_type": "markdown",
      "metadata": {
        "id": "7BiYnhengnl7"
      },
      "source": [
        "## Renomeando colunas"
      ]
    },
    {
      "cell_type": "code",
      "metadata": {
        "id": "15cidf-BgnMJ"
      },
      "source": [
        "df = df.rename(columns={'UF': 'uf', 'Tipo Crime': 'crime', \n",
        "                        'Ano': 'ano', 'Mês': 'mes', \n",
        "                        'Ocorrências': 'n_ocorrencias'})"
      ],
      "execution_count": 157,
      "outputs": []
    },
    {
      "cell_type": "markdown",
      "metadata": {
        "id": "QJazjm40hBky"
      },
      "source": [
        "## Visualizando novo dataframe "
      ]
    },
    {
      "cell_type": "code",
      "metadata": {
        "colab": {
          "base_uri": "https://localhost:8080/",
          "height": 424
        },
        "id": "WJjDVRj4hFSU",
        "outputId": "c4be73d1-f2ce-4855-966f-8b281bd3fb9d"
      },
      "source": [
        "df"
      ],
      "execution_count": 158,
      "outputs": [
        {
          "output_type": "execute_result",
          "data": {
            "text/html": [
              "<div>\n",
              "<style scoped>\n",
              "    .dataframe tbody tr th:only-of-type {\n",
              "        vertical-align: middle;\n",
              "    }\n",
              "\n",
              "    .dataframe tbody tr th {\n",
              "        vertical-align: top;\n",
              "    }\n",
              "\n",
              "    .dataframe thead th {\n",
              "        text-align: right;\n",
              "    }\n",
              "</style>\n",
              "<table border=\"1\" class=\"dataframe\">\n",
              "  <thead>\n",
              "    <tr style=\"text-align: right;\">\n",
              "      <th></th>\n",
              "      <th>uf</th>\n",
              "      <th>crime</th>\n",
              "      <th>ano</th>\n",
              "      <th>mes</th>\n",
              "      <th>n_ocorrencias</th>\n",
              "    </tr>\n",
              "  </thead>\n",
              "  <tbody>\n",
              "    <tr>\n",
              "      <th>1652</th>\n",
              "      <td>Acre</td>\n",
              "      <td>Estupro</td>\n",
              "      <td>2020</td>\n",
              "      <td>janeiro</td>\n",
              "      <td>18</td>\n",
              "    </tr>\n",
              "    <tr>\n",
              "      <th>1653</th>\n",
              "      <td>Acre</td>\n",
              "      <td>Furto de veículo</td>\n",
              "      <td>2020</td>\n",
              "      <td>janeiro</td>\n",
              "      <td>23</td>\n",
              "    </tr>\n",
              "    <tr>\n",
              "      <th>1654</th>\n",
              "      <td>Acre</td>\n",
              "      <td>Homicídio doloso</td>\n",
              "      <td>2020</td>\n",
              "      <td>janeiro</td>\n",
              "      <td>46</td>\n",
              "    </tr>\n",
              "    <tr>\n",
              "      <th>1655</th>\n",
              "      <td>Acre</td>\n",
              "      <td>Lesão corporal seguida de morte</td>\n",
              "      <td>2020</td>\n",
              "      <td>janeiro</td>\n",
              "      <td>0</td>\n",
              "    </tr>\n",
              "    <tr>\n",
              "      <th>1656</th>\n",
              "      <td>Acre</td>\n",
              "      <td>Roubo a instituição financeira</td>\n",
              "      <td>2020</td>\n",
              "      <td>janeiro</td>\n",
              "      <td>0</td>\n",
              "    </tr>\n",
              "    <tr>\n",
              "      <th>...</th>\n",
              "      <td>...</td>\n",
              "      <td>...</td>\n",
              "      <td>...</td>\n",
              "      <td>...</td>\n",
              "      <td>...</td>\n",
              "    </tr>\n",
              "    <tr>\n",
              "      <th>18980</th>\n",
              "      <td>Tocantins</td>\n",
              "      <td>Roubo a instituição financeira</td>\n",
              "      <td>2015</td>\n",
              "      <td>dezembro</td>\n",
              "      <td>6</td>\n",
              "    </tr>\n",
              "    <tr>\n",
              "      <th>18981</th>\n",
              "      <td>Tocantins</td>\n",
              "      <td>Roubo de carga</td>\n",
              "      <td>2015</td>\n",
              "      <td>dezembro</td>\n",
              "      <td>1</td>\n",
              "    </tr>\n",
              "    <tr>\n",
              "      <th>18982</th>\n",
              "      <td>Tocantins</td>\n",
              "      <td>Roubo de veículo</td>\n",
              "      <td>2015</td>\n",
              "      <td>dezembro</td>\n",
              "      <td>55</td>\n",
              "    </tr>\n",
              "    <tr>\n",
              "      <th>18983</th>\n",
              "      <td>Tocantins</td>\n",
              "      <td>Roubo seguido de morte (latrocínio)</td>\n",
              "      <td>2015</td>\n",
              "      <td>dezembro</td>\n",
              "      <td>2</td>\n",
              "    </tr>\n",
              "    <tr>\n",
              "      <th>18984</th>\n",
              "      <td>Tocantins</td>\n",
              "      <td>Tentativa de homicídio</td>\n",
              "      <td>2015</td>\n",
              "      <td>dezembro</td>\n",
              "      <td>42</td>\n",
              "    </tr>\n",
              "  </tbody>\n",
              "</table>\n",
              "<p>17333 rows × 5 columns</p>\n",
              "</div>"
            ],
            "text/plain": [
              "              uf                                crime  ...       mes n_ocorrencias\n",
              "1652        Acre                              Estupro  ...   janeiro            18\n",
              "1653        Acre                     Furto de veículo  ...   janeiro            23\n",
              "1654        Acre                     Homicídio doloso  ...   janeiro            46\n",
              "1655        Acre      Lesão corporal seguida de morte  ...   janeiro             0\n",
              "1656        Acre       Roubo a instituição financeira  ...   janeiro             0\n",
              "...          ...                                  ...  ...       ...           ...\n",
              "18980  Tocantins       Roubo a instituição financeira  ...  dezembro             6\n",
              "18981  Tocantins                       Roubo de carga  ...  dezembro             1\n",
              "18982  Tocantins                     Roubo de veículo  ...  dezembro            55\n",
              "18983  Tocantins  Roubo seguido de morte (latrocínio)  ...  dezembro             2\n",
              "18984  Tocantins               Tentativa de homicídio  ...  dezembro            42\n",
              "\n",
              "[17333 rows x 5 columns]"
            ]
          },
          "metadata": {},
          "execution_count": 158
        }
      ]
    },
    {
      "cell_type": "markdown",
      "metadata": {
        "id": "G-ngtxvyfTIa"
      },
      "source": [
        "## Agrupando dados e obtendo Ano, UF e indicadores de ocorrências"
      ]
    },
    {
      "cell_type": "code",
      "metadata": {
        "id": "fp5kT7tKm-_M",
        "colab": {
          "base_uri": "https://localhost:8080/",
          "height": 296
        },
        "outputId": "a2a92ca3-3c19-4676-f470-fbaab6d51518"
      },
      "source": [
        "group_uf = df.groupby(['ano', 'uf'])['n_ocorrencias'].sum()\n",
        "\n",
        "df_estados = pd.DataFrame()\n",
        "\n",
        "column_ano = pd.Series([])\n",
        "column_uf = pd.Series([])\n",
        "\n",
        "row = 0\n",
        "\n",
        "for index, value in group_uf.iteritems():\n",
        "  column_ano[row] = index[0]\n",
        "  column_uf[row] = index[1]\n",
        "  row += 1\n",
        "\n",
        "df_estados['ano'] = column_ano\n",
        "df_estados['uf'] = column_uf\n",
        "\n",
        "df_estados.head(5)"
      ],
      "execution_count": 159,
      "outputs": [
        {
          "output_type": "stream",
          "name": "stderr",
          "text": [
            "/usr/local/lib/python3.7/dist-packages/ipykernel_launcher.py:5: DeprecationWarning: The default dtype for empty Series will be 'object' instead of 'float64' in a future version. Specify a dtype explicitly to silence this warning.\n",
            "  \"\"\"\n",
            "/usr/local/lib/python3.7/dist-packages/ipykernel_launcher.py:6: DeprecationWarning: The default dtype for empty Series will be 'object' instead of 'float64' in a future version. Specify a dtype explicitly to silence this warning.\n",
            "  \n"
          ]
        },
        {
          "output_type": "execute_result",
          "data": {
            "text/html": [
              "<div>\n",
              "<style scoped>\n",
              "    .dataframe tbody tr th:only-of-type {\n",
              "        vertical-align: middle;\n",
              "    }\n",
              "\n",
              "    .dataframe tbody tr th {\n",
              "        vertical-align: top;\n",
              "    }\n",
              "\n",
              "    .dataframe thead th {\n",
              "        text-align: right;\n",
              "    }\n",
              "</style>\n",
              "<table border=\"1\" class=\"dataframe\">\n",
              "  <thead>\n",
              "    <tr style=\"text-align: right;\">\n",
              "      <th></th>\n",
              "      <th>ano</th>\n",
              "      <th>uf</th>\n",
              "    </tr>\n",
              "  </thead>\n",
              "  <tbody>\n",
              "    <tr>\n",
              "      <th>0</th>\n",
              "      <td>2015</td>\n",
              "      <td>Acre</td>\n",
              "    </tr>\n",
              "    <tr>\n",
              "      <th>1</th>\n",
              "      <td>2015</td>\n",
              "      <td>Alagoas</td>\n",
              "    </tr>\n",
              "    <tr>\n",
              "      <th>2</th>\n",
              "      <td>2015</td>\n",
              "      <td>Amapá</td>\n",
              "    </tr>\n",
              "    <tr>\n",
              "      <th>3</th>\n",
              "      <td>2015</td>\n",
              "      <td>Amazonas</td>\n",
              "    </tr>\n",
              "    <tr>\n",
              "      <th>4</th>\n",
              "      <td>2015</td>\n",
              "      <td>Bahia</td>\n",
              "    </tr>\n",
              "  </tbody>\n",
              "</table>\n",
              "</div>"
            ],
            "text/plain": [
              "    ano        uf\n",
              "0  2015      Acre\n",
              "1  2015   Alagoas\n",
              "2  2015     Amapá\n",
              "3  2015  Amazonas\n",
              "4  2015     Bahia"
            ]
          },
          "metadata": {},
          "execution_count": 159
        }
      ]
    },
    {
      "cell_type": "markdown",
      "metadata": {
        "id": "Q9tSWC4Mf3-T"
      },
      "source": [
        "## Gerando número total de cada crime"
      ]
    },
    {
      "cell_type": "code",
      "metadata": {
        "id": "AjEEWhntxtV6",
        "colab": {
          "base_uri": "https://localhost:8080/",
          "height": 293
        },
        "outputId": "6ffba0d8-aaa1-4537-8405-5d3d2a023743"
      },
      "source": [
        "columns = ['ano', 'uf', 'Estupro', \n",
        "          'Furto de veículo', 'Homicídio doloso', \n",
        "          'Lesão corporal seguida de morte', 'Roubo a instituição financeira', \n",
        "          'Roubo de carga', 'Roubo de veículo', \n",
        "          'Roubo seguido de morte (latrocínio)', 'Tentativa de homicídio']\n",
        "\n",
        "df_estados = pd.DataFrame(df_estados, columns=columns)\n",
        "\n",
        "crimes = df.groupby(['ano', 'uf', 'crime'])['n_ocorrencias'].sum()\n",
        "\n",
        "row = -1\n",
        "uf = 'uf'\n",
        "\n",
        "for index, total in crimes.iteritems():\n",
        "  if(index[1] != uf):\n",
        "    row += 1\n",
        "    uf = index[1]\n",
        "\n",
        "  if(df_estados['ano'][row] == index[0] and df_estados['uf'][row] == index[1]):\n",
        "    df_estados[index[2]][row] = total\n",
        "\n",
        "df_estados.head(5)"
      ],
      "execution_count": 160,
      "outputs": [
        {
          "output_type": "stream",
          "name": "stderr",
          "text": [
            "/usr/local/lib/python3.7/dist-packages/ipykernel_launcher.py:20: SettingWithCopyWarning: \n",
            "A value is trying to be set on a copy of a slice from a DataFrame\n",
            "\n",
            "See the caveats in the documentation: https://pandas.pydata.org/pandas-docs/stable/user_guide/indexing.html#returning-a-view-versus-a-copy\n"
          ]
        },
        {
          "output_type": "execute_result",
          "data": {
            "text/html": [
              "<div>\n",
              "<style scoped>\n",
              "    .dataframe tbody tr th:only-of-type {\n",
              "        vertical-align: middle;\n",
              "    }\n",
              "\n",
              "    .dataframe tbody tr th {\n",
              "        vertical-align: top;\n",
              "    }\n",
              "\n",
              "    .dataframe thead th {\n",
              "        text-align: right;\n",
              "    }\n",
              "</style>\n",
              "<table border=\"1\" class=\"dataframe\">\n",
              "  <thead>\n",
              "    <tr style=\"text-align: right;\">\n",
              "      <th></th>\n",
              "      <th>ano</th>\n",
              "      <th>uf</th>\n",
              "      <th>Estupro</th>\n",
              "      <th>Furto de veículo</th>\n",
              "      <th>Homicídio doloso</th>\n",
              "      <th>Lesão corporal seguida de morte</th>\n",
              "      <th>Roubo a instituição financeira</th>\n",
              "      <th>Roubo de carga</th>\n",
              "      <th>Roubo de veículo</th>\n",
              "      <th>Roubo seguido de morte (latrocínio)</th>\n",
              "      <th>Tentativa de homicídio</th>\n",
              "    </tr>\n",
              "  </thead>\n",
              "  <tbody>\n",
              "    <tr>\n",
              "      <th>0</th>\n",
              "      <td>2015</td>\n",
              "      <td>Acre</td>\n",
              "      <td>42.0</td>\n",
              "      <td>0.0</td>\n",
              "      <td>189.0</td>\n",
              "      <td>3.0</td>\n",
              "      <td>0.0</td>\n",
              "      <td>0.0</td>\n",
              "      <td>0.0</td>\n",
              "      <td>10.0</td>\n",
              "      <td>16.0</td>\n",
              "    </tr>\n",
              "    <tr>\n",
              "      <th>1</th>\n",
              "      <td>2015</td>\n",
              "      <td>Alagoas</td>\n",
              "      <td>567.0</td>\n",
              "      <td>696.0</td>\n",
              "      <td>1633.0</td>\n",
              "      <td>9.0</td>\n",
              "      <td>21.0</td>\n",
              "      <td>95.0</td>\n",
              "      <td>3158.0</td>\n",
              "      <td>56.0</td>\n",
              "      <td>704.0</td>\n",
              "    </tr>\n",
              "    <tr>\n",
              "      <th>2</th>\n",
              "      <td>2015</td>\n",
              "      <td>Amapá</td>\n",
              "      <td>354.0</td>\n",
              "      <td>877.0</td>\n",
              "      <td>248.0</td>\n",
              "      <td>2.0</td>\n",
              "      <td>2.0</td>\n",
              "      <td>NaN</td>\n",
              "      <td>310.0</td>\n",
              "      <td>17.0</td>\n",
              "      <td>315.0</td>\n",
              "    </tr>\n",
              "    <tr>\n",
              "      <th>3</th>\n",
              "      <td>2015</td>\n",
              "      <td>Amazonas</td>\n",
              "      <td>756.0</td>\n",
              "      <td>1867.0</td>\n",
              "      <td>1313.0</td>\n",
              "      <td>8.0</td>\n",
              "      <td>52.0</td>\n",
              "      <td>0.0</td>\n",
              "      <td>2781.0</td>\n",
              "      <td>69.0</td>\n",
              "      <td>394.0</td>\n",
              "    </tr>\n",
              "    <tr>\n",
              "      <th>4</th>\n",
              "      <td>2015</td>\n",
              "      <td>Bahia</td>\n",
              "      <td>2450.0</td>\n",
              "      <td>5539.0</td>\n",
              "      <td>5422.0</td>\n",
              "      <td>125.0</td>\n",
              "      <td>60.0</td>\n",
              "      <td>436.0</td>\n",
              "      <td>14451.0</td>\n",
              "      <td>204.0</td>\n",
              "      <td>2844.0</td>\n",
              "    </tr>\n",
              "  </tbody>\n",
              "</table>\n",
              "</div>"
            ],
            "text/plain": [
              "    ano        uf  ...  Roubo seguido de morte (latrocínio)  Tentativa de homicídio\n",
              "0  2015      Acre  ...                                 10.0                    16.0\n",
              "1  2015   Alagoas  ...                                 56.0                   704.0\n",
              "2  2015     Amapá  ...                                 17.0                   315.0\n",
              "3  2015  Amazonas  ...                                 69.0                   394.0\n",
              "4  2015     Bahia  ...                                204.0                  2844.0\n",
              "\n",
              "[5 rows x 11 columns]"
            ]
          },
          "metadata": {},
          "execution_count": 160
        }
      ]
    },
    {
      "cell_type": "markdown",
      "metadata": {
        "id": "8hWKwJUbh8v5"
      },
      "source": [
        "## Alterando valores nulos (NaN) para zero"
      ]
    },
    {
      "cell_type": "code",
      "metadata": {
        "id": "V6jyKXtv0YMC"
      },
      "source": [
        "df_estados = df_estados.fillna(0)"
      ],
      "execution_count": 161,
      "outputs": []
    },
    {
      "cell_type": "markdown",
      "metadata": {
        "id": "ukJrcDiAiKKr"
      },
      "source": [
        "## Visualizando dados pré-processados"
      ]
    },
    {
      "cell_type": "code",
      "metadata": {
        "id": "FcO-QbVTiV3E"
      },
      "source": [
        "columns = ['ano', 'uf', \n",
        "           'Furto de veículo', 'Roubo a instituição financeira', \n",
        "           'Roubo de carga', 'Roubo de veículo', \n",
        "           'Roubo seguido de morte (latrocínio)']"
      ],
      "execution_count": 162,
      "outputs": []
    },
    {
      "cell_type": "code",
      "metadata": {
        "id": "wNQhKFFDpks_"
      },
      "source": [
        "df_estados = df_estados[columns]"
      ],
      "execution_count": 163,
      "outputs": []
    },
    {
      "cell_type": "code",
      "metadata": {
        "colab": {
          "base_uri": "https://localhost:8080/",
          "height": 424
        },
        "id": "5EtR1vWhjSnz",
        "outputId": "61e78db1-825f-46c2-fed6-fc8af0637093"
      },
      "source": [
        "df_estados"
      ],
      "execution_count": 164,
      "outputs": [
        {
          "output_type": "execute_result",
          "data": {
            "text/html": [
              "<div>\n",
              "<style scoped>\n",
              "    .dataframe tbody tr th:only-of-type {\n",
              "        vertical-align: middle;\n",
              "    }\n",
              "\n",
              "    .dataframe tbody tr th {\n",
              "        vertical-align: top;\n",
              "    }\n",
              "\n",
              "    .dataframe thead th {\n",
              "        text-align: right;\n",
              "    }\n",
              "</style>\n",
              "<table border=\"1\" class=\"dataframe\">\n",
              "  <thead>\n",
              "    <tr style=\"text-align: right;\">\n",
              "      <th></th>\n",
              "      <th>ano</th>\n",
              "      <th>uf</th>\n",
              "      <th>Furto de veículo</th>\n",
              "      <th>Roubo a instituição financeira</th>\n",
              "      <th>Roubo de carga</th>\n",
              "      <th>Roubo de veículo</th>\n",
              "      <th>Roubo seguido de morte (latrocínio)</th>\n",
              "    </tr>\n",
              "  </thead>\n",
              "  <tbody>\n",
              "    <tr>\n",
              "      <th>0</th>\n",
              "      <td>2015</td>\n",
              "      <td>Acre</td>\n",
              "      <td>0.0</td>\n",
              "      <td>0.0</td>\n",
              "      <td>0.0</td>\n",
              "      <td>0.0</td>\n",
              "      <td>10.0</td>\n",
              "    </tr>\n",
              "    <tr>\n",
              "      <th>1</th>\n",
              "      <td>2015</td>\n",
              "      <td>Alagoas</td>\n",
              "      <td>696.0</td>\n",
              "      <td>21.0</td>\n",
              "      <td>95.0</td>\n",
              "      <td>3158.0</td>\n",
              "      <td>56.0</td>\n",
              "    </tr>\n",
              "    <tr>\n",
              "      <th>2</th>\n",
              "      <td>2015</td>\n",
              "      <td>Amapá</td>\n",
              "      <td>877.0</td>\n",
              "      <td>2.0</td>\n",
              "      <td>0.0</td>\n",
              "      <td>310.0</td>\n",
              "      <td>17.0</td>\n",
              "    </tr>\n",
              "    <tr>\n",
              "      <th>3</th>\n",
              "      <td>2015</td>\n",
              "      <td>Amazonas</td>\n",
              "      <td>1867.0</td>\n",
              "      <td>52.0</td>\n",
              "      <td>0.0</td>\n",
              "      <td>2781.0</td>\n",
              "      <td>69.0</td>\n",
              "    </tr>\n",
              "    <tr>\n",
              "      <th>4</th>\n",
              "      <td>2015</td>\n",
              "      <td>Bahia</td>\n",
              "      <td>5539.0</td>\n",
              "      <td>60.0</td>\n",
              "      <td>436.0</td>\n",
              "      <td>14451.0</td>\n",
              "      <td>204.0</td>\n",
              "    </tr>\n",
              "    <tr>\n",
              "      <th>...</th>\n",
              "      <td>...</td>\n",
              "      <td>...</td>\n",
              "      <td>...</td>\n",
              "      <td>...</td>\n",
              "      <td>...</td>\n",
              "      <td>...</td>\n",
              "      <td>...</td>\n",
              "    </tr>\n",
              "    <tr>\n",
              "      <th>157</th>\n",
              "      <td>2020</td>\n",
              "      <td>Roraima</td>\n",
              "      <td>701.0</td>\n",
              "      <td>2.0</td>\n",
              "      <td>0.0</td>\n",
              "      <td>487.0</td>\n",
              "      <td>17.0</td>\n",
              "    </tr>\n",
              "    <tr>\n",
              "      <th>158</th>\n",
              "      <td>2020</td>\n",
              "      <td>Santa Catarina</td>\n",
              "      <td>7544.0</td>\n",
              "      <td>8.0</td>\n",
              "      <td>13.0</td>\n",
              "      <td>1384.0</td>\n",
              "      <td>17.0</td>\n",
              "    </tr>\n",
              "    <tr>\n",
              "      <th>159</th>\n",
              "      <td>2020</td>\n",
              "      <td>Sergipe</td>\n",
              "      <td>788.0</td>\n",
              "      <td>2.0</td>\n",
              "      <td>0.0</td>\n",
              "      <td>2524.0</td>\n",
              "      <td>28.0</td>\n",
              "    </tr>\n",
              "    <tr>\n",
              "      <th>160</th>\n",
              "      <td>2020</td>\n",
              "      <td>São Paulo</td>\n",
              "      <td>65724.0</td>\n",
              "      <td>29.0</td>\n",
              "      <td>5918.0</td>\n",
              "      <td>31893.0</td>\n",
              "      <td>179.0</td>\n",
              "    </tr>\n",
              "    <tr>\n",
              "      <th>161</th>\n",
              "      <td>2020</td>\n",
              "      <td>Tocantins</td>\n",
              "      <td>1259.0</td>\n",
              "      <td>3.0</td>\n",
              "      <td>2.0</td>\n",
              "      <td>484.0</td>\n",
              "      <td>16.0</td>\n",
              "    </tr>\n",
              "  </tbody>\n",
              "</table>\n",
              "<p>162 rows × 7 columns</p>\n",
              "</div>"
            ],
            "text/plain": [
              "      ano  ... Roubo seguido de morte (latrocínio)\n",
              "0    2015  ...                                10.0\n",
              "1    2015  ...                                56.0\n",
              "2    2015  ...                                17.0\n",
              "3    2015  ...                                69.0\n",
              "4    2015  ...                               204.0\n",
              "..    ...  ...                                 ...\n",
              "157  2020  ...                                17.0\n",
              "158  2020  ...                                17.0\n",
              "159  2020  ...                                28.0\n",
              "160  2020  ...                               179.0\n",
              "161  2020  ...                                16.0\n",
              "\n",
              "[162 rows x 7 columns]"
            ]
          },
          "metadata": {},
          "execution_count": 164
        }
      ]
    },
    {
      "cell_type": "code",
      "metadata": {
        "id": "FjW_KhPzq0oT",
        "colab": {
          "base_uri": "https://localhost:8080/",
          "height": 1000
        },
        "outputId": "72255011-70e2-44f5-dd8a-df62f7065c8a"
      },
      "source": [
        "columns = ['Furto de veículo', 'Roubo a instituição financeira', \n",
        "           'Roubo de carga', 'Roubo de veículo', \n",
        "           'Roubo seguido de morte (latrocínio)']\n",
        "\n",
        "anos = [2015, 2016, 2017, 2018, 2019, 2020]\n",
        "\n",
        "for ano in anos: \n",
        "  corr_estados = df_estados[df_estados['ano'] == ano]\n",
        "  corr_estados = corr_estados[columns].corr()\n",
        "\n",
        "  ax = plt.axes()\n",
        "\n",
        "  sns.heatmap(corr_estados, xticklabels=columns, yticklabels=columns, \n",
        "              annot=True, ax=ax)\n",
        "  \n",
        "  ax.set_title(f'Heatmap for year {ano}')\n",
        "\n",
        "  plt.show()\n",
        "  "
      ],
      "execution_count": 165,
      "outputs": [
        {
          "output_type": "display_data",
          "data": {
            "image/png": "[encoded data removed]",
            "text/plain": [
              "<Figure size 432x288 with 2 Axes>"
            ]
          },
          "metadata": {
            "needs_background": "light"
          }
        },
        {
          "output_type": "display_data",
          "data": {
            "image/png": "[encoded data removed]",
            "text/plain": [
              "<Figure size 432x288 with 2 Axes>"
            ]
          },
          "metadata": {
            "needs_background": "light"
          }
        },
        {
          "output_type": "display_data",
          "data": {
            "image/png": "[encoded data removed]",
            "text/plain": [
              "<Figure size 432x288 with 2 Axes>"
            ]
          },
          "metadata": {
            "needs_background": "light"
          }
        },
        {
          "output_type": "display_data",
          "data": {
            "image/png": "[encoded data removed]",
            "text/plain": [
              "<Figure size 432x288 with 2 Axes>"
            ]
          },
          "metadata": {
            "needs_background": "light"
          }
        },
        {
          "output_type": "display_data",
          "data": {
            "image/png": "[encoded data removed]",
            "text/plain": [
              "<Figure size 432x288 with 2 Axes>"
            ]
          },
          "metadata": {
            "needs_background": "light"
          }
        },
        {
          "output_type": "display_data",
          "data": {
            "image/png": "[encoded data removed]",
            "text/plain": [
              "<Figure size 432x288 with 2 Axes>"
            ]
          },
          "metadata": {
            "needs_background": "light"
          }
        }
      ]
    },
    {
      "cell_type": "markdown",
      "metadata": {
        "id": "83KFYPA0lki7"
      },
      "source": [
        "## Padronizando dataframe para manter a mesma escala de valores"
      ]
    },
    {
      "cell_type": "code",
      "metadata": {
        "id": "dg4fo50t1wvT"
      },
      "source": [
        "\n",
        "columns = ['Furto de veículo', 'Roubo a instituição financeira', \n",
        "           'Roubo de carga', 'Roubo de veículo',\n",
        "           'Roubo seguido de morte (latrocínio)']\n",
        "\n",
        "df_estados_scaler = df_estados[columns].values\n",
        "\n",
        "min_max_scaler = preprocessing.MinMaxScaler()\n",
        "\n",
        "df_estados_w_scaler = min_max_scaler.fit_transform(df_estados_scaler)\n",
        "\n",
        "df_estados_scaler = pd.DataFrame(df_estados_w_scaler, \n",
        "                                 index=df_estados.index, \n",
        "                                 columns=columns)\n",
        "\n",
        "df_estados = pd.DataFrame()\n",
        "\n",
        "df_estados['ano'] = column_ano\n",
        "df_estados['uf'] = column_uf\n",
        "\n",
        "df_estados = pd.concat([df_estados, df_estados_scaler], axis=1)"
      ],
      "execution_count": 166,
      "outputs": []
    },
    {
      "cell_type": "code",
      "metadata": {
        "id": "i8Y8fgTxtxBb"
      },
      "source": [
        "#Adicionando a região que cada estado pertence para melhor avaliação\n",
        "\n",
        "norte = ['Acre', 'Amapá', 'Amazonas', 'Pará',\n",
        "        'Rondônia', 'Roraima', 'Tocantins',]\n",
        "\n",
        "nordeste = ['Maranhão', 'Piauí', 'Ceará', 'Rio Grande do Norte',\n",
        "            'Pernambuco', 'Paraíba', 'Sergipe', 'Alagoas', 'Bahia']\n",
        "\n",
        "centro_oeste = ['Mato Grosso', 'Mato Grosso do Sul', 'Goiás', 'Distrito Federal']\n",
        "\n",
        "sudeste = ['Espírito Santo', 'São Paulo', 'Minas Gerais', 'Rio de Janeiro']\n",
        "\n",
        "sul = ['Paraná', 'Santa Catarina', 'Rio Grande do Sul']\n",
        "\n",
        "def set_region(row):\n",
        "  if row['uf'] in norte:\n",
        "    return \"NORTE\"\n",
        "  if row['uf'] in nordeste:\n",
        "    return \"NORDESTE\"\n",
        "  if row['uf'] in centro_oeste:\n",
        "    return \"CENTRO-OESTE\"\n",
        "  if row['uf'] in sudeste:\n",
        "    return \"SUDESTE\"\n",
        "  if row['uf'] in sul:\n",
        "    return \"SUL\"\n",
        "\n",
        "df_estados['regiao'] = df_estados.apply(set_region, axis=1)"
      ],
      "execution_count": 167,
      "outputs": []
    },
    {
      "cell_type": "code",
      "metadata": {
        "colab": {
          "base_uri": "https://localhost:8080/",
          "height": 424
        },
        "id": "H6oX1qWWqMXQ",
        "outputId": "67236f53-3e50-4ab5-d321-f79c892bb2b7"
      },
      "source": [
        "df_estados"
      ],
      "execution_count": 168,
      "outputs": [
        {
          "output_type": "execute_result",
          "data": {
            "text/html": [
              "<div>\n",
              "<style scoped>\n",
              "    .dataframe tbody tr th:only-of-type {\n",
              "        vertical-align: middle;\n",
              "    }\n",
              "\n",
              "    .dataframe tbody tr th {\n",
              "        vertical-align: top;\n",
              "    }\n",
              "\n",
              "    .dataframe thead th {\n",
              "        text-align: right;\n",
              "    }\n",
              "</style>\n",
              "<table border=\"1\" class=\"dataframe\">\n",
              "  <thead>\n",
              "    <tr style=\"text-align: right;\">\n",
              "      <th></th>\n",
              "      <th>ano</th>\n",
              "      <th>uf</th>\n",
              "      <th>Furto de veículo</th>\n",
              "      <th>Roubo a instituição financeira</th>\n",
              "      <th>Roubo de carga</th>\n",
              "      <th>Roubo de veículo</th>\n",
              "      <th>Roubo seguido de morte (latrocínio)</th>\n",
              "      <th>regiao</th>\n",
              "    </tr>\n",
              "  </thead>\n",
              "  <tbody>\n",
              "    <tr>\n",
              "      <th>0</th>\n",
              "      <td>2015</td>\n",
              "      <td>Acre</td>\n",
              "      <td>0.000000</td>\n",
              "      <td>0.000000</td>\n",
              "      <td>0.000000</td>\n",
              "      <td>0.000000</td>\n",
              "      <td>0.020057</td>\n",
              "      <td>NORTE</td>\n",
              "    </tr>\n",
              "    <tr>\n",
              "      <th>1</th>\n",
              "      <td>2015</td>\n",
              "      <td>Alagoas</td>\n",
              "      <td>0.006274</td>\n",
              "      <td>0.132075</td>\n",
              "      <td>0.008963</td>\n",
              "      <td>0.040148</td>\n",
              "      <td>0.151862</td>\n",
              "      <td>NORDESTE</td>\n",
              "    </tr>\n",
              "    <tr>\n",
              "      <th>2</th>\n",
              "      <td>2015</td>\n",
              "      <td>Amapá</td>\n",
              "      <td>0.007906</td>\n",
              "      <td>0.012579</td>\n",
              "      <td>0.000000</td>\n",
              "      <td>0.003941</td>\n",
              "      <td>0.040115</td>\n",
              "      <td>NORTE</td>\n",
              "    </tr>\n",
              "    <tr>\n",
              "      <th>3</th>\n",
              "      <td>2015</td>\n",
              "      <td>Amazonas</td>\n",
              "      <td>0.016830</td>\n",
              "      <td>0.327044</td>\n",
              "      <td>0.000000</td>\n",
              "      <td>0.035355</td>\n",
              "      <td>0.189112</td>\n",
              "      <td>NORTE</td>\n",
              "    </tr>\n",
              "    <tr>\n",
              "      <th>4</th>\n",
              "      <td>2015</td>\n",
              "      <td>Bahia</td>\n",
              "      <td>0.049931</td>\n",
              "      <td>0.377358</td>\n",
              "      <td>0.041136</td>\n",
              "      <td>0.183717</td>\n",
              "      <td>0.575931</td>\n",
              "      <td>NORDESTE</td>\n",
              "    </tr>\n",
              "    <tr>\n",
              "      <th>...</th>\n",
              "      <td>...</td>\n",
              "      <td>...</td>\n",
              "      <td>...</td>\n",
              "      <td>...</td>\n",
              "      <td>...</td>\n",
              "      <td>...</td>\n",
              "      <td>...</td>\n",
              "      <td>...</td>\n",
              "    </tr>\n",
              "    <tr>\n",
              "      <th>157</th>\n",
              "      <td>2020</td>\n",
              "      <td>Roraima</td>\n",
              "      <td>0.006319</td>\n",
              "      <td>0.012579</td>\n",
              "      <td>0.000000</td>\n",
              "      <td>0.006191</td>\n",
              "      <td>0.040115</td>\n",
              "      <td>NORTE</td>\n",
              "    </tr>\n",
              "    <tr>\n",
              "      <th>158</th>\n",
              "      <td>2020</td>\n",
              "      <td>Santa Catarina</td>\n",
              "      <td>0.068006</td>\n",
              "      <td>0.050314</td>\n",
              "      <td>0.001227</td>\n",
              "      <td>0.017595</td>\n",
              "      <td>0.040115</td>\n",
              "      <td>SUL</td>\n",
              "    </tr>\n",
              "    <tr>\n",
              "      <th>159</th>\n",
              "      <td>2020</td>\n",
              "      <td>Sergipe</td>\n",
              "      <td>0.007103</td>\n",
              "      <td>0.012579</td>\n",
              "      <td>0.000000</td>\n",
              "      <td>0.032088</td>\n",
              "      <td>0.071633</td>\n",
              "      <td>NORDESTE</td>\n",
              "    </tr>\n",
              "    <tr>\n",
              "      <th>160</th>\n",
              "      <td>2020</td>\n",
              "      <td>São Paulo</td>\n",
              "      <td>0.592471</td>\n",
              "      <td>0.182390</td>\n",
              "      <td>0.558355</td>\n",
              "      <td>0.405459</td>\n",
              "      <td>0.504298</td>\n",
              "      <td>SUDESTE</td>\n",
              "    </tr>\n",
              "    <tr>\n",
              "      <th>161</th>\n",
              "      <td>2020</td>\n",
              "      <td>Tocantins</td>\n",
              "      <td>0.011349</td>\n",
              "      <td>0.018868</td>\n",
              "      <td>0.000189</td>\n",
              "      <td>0.006153</td>\n",
              "      <td>0.037249</td>\n",
              "      <td>NORTE</td>\n",
              "    </tr>\n",
              "  </tbody>\n",
              "</table>\n",
              "<p>162 rows × 8 columns</p>\n",
              "</div>"
            ],
            "text/plain": [
              "      ano              uf  ...  Roubo seguido de morte (latrocínio)    regiao\n",
              "0    2015            Acre  ...                             0.020057     NORTE\n",
              "1    2015         Alagoas  ...                             0.151862  NORDESTE\n",
              "2    2015           Amapá  ...                             0.040115     NORTE\n",
              "3    2015        Amazonas  ...                             0.189112     NORTE\n",
              "4    2015           Bahia  ...                             0.575931  NORDESTE\n",
              "..    ...             ...  ...                                  ...       ...\n",
              "157  2020         Roraima  ...                             0.040115     NORTE\n",
              "158  2020  Santa Catarina  ...                             0.040115       SUL\n",
              "159  2020         Sergipe  ...                             0.071633  NORDESTE\n",
              "160  2020       São Paulo  ...                             0.504298   SUDESTE\n",
              "161  2020       Tocantins  ...                             0.037249     NORTE\n",
              "\n",
              "[162 rows x 8 columns]"
            ]
          },
          "metadata": {},
          "execution_count": 168
        }
      ]
    },
    {
      "cell_type": "markdown",
      "metadata": {
        "id": "M2o8uFhiu_-8"
      },
      "source": [
        "## Rodando ***K-means*** no dataset tratado"
      ]
    },
    {
      "cell_type": "code",
      "metadata": {
        "colab": {
          "base_uri": "https://localhost:8080/"
        },
        "id": "kb-BXGfEKDRN",
        "outputId": "e7c6d246-d31d-4ef5-e973-60f83dc93f47"
      },
      "source": [
        "columns = ['Furto de veículo', 'Roubo a instituição financeira', \n",
        "           'Roubo de carga', 'Roubo de veículo', \n",
        "           'Roubo seguido de morte (latrocínio)']\n",
        "\n",
        "for k in range(2, 10):\n",
        "  kmeans = KMeans(n_clusters=k)\n",
        "  kmeans.fit(df_estados[columns])\n",
        "  score_mean = metrics.silhouette_score(df_estados[columns], \n",
        "                                        kmeans.labels_, \n",
        "                                        metric='euclidean')\n",
        "  print(f\"Cluster: {k} | Score: {round(score_mean, 5)}\")"
      ],
      "execution_count": 169,
      "outputs": [
        {
          "output_type": "stream",
          "name": "stdout",
          "text": [
            "Cluster: 2 | Score: 0.75154\n",
            "Cluster: 3 | Score: 0.53614\n",
            "Cluster: 4 | Score: 0.54427\n",
            "Cluster: 5 | Score: 0.54427\n",
            "Cluster: 6 | Score: 0.5518\n",
            "Cluster: 7 | Score: 0.43745\n",
            "Cluster: 8 | Score: 0.38459\n",
            "Cluster: 9 | Score: 0.44132\n"
          ]
        }
      ]
    },
    {
      "cell_type": "code",
      "metadata": {
        "colab": {
          "base_uri": "https://localhost:8080/"
        },
        "id": "-QXGLU93MaS3",
        "outputId": "00bfd6c7-c55d-43c9-b977-02e871a091ed"
      },
      "source": [
        "kmeans = KMeans(n_clusters=5)\n",
        "kmeans.fit(df_estados[columns])"
      ],
      "execution_count": 170,
      "outputs": [
        {
          "output_type": "execute_result",
          "data": {
            "text/plain": [
              "KMeans(n_clusters=5)"
            ]
          },
          "metadata": {},
          "execution_count": 170
        }
      ]
    },
    {
      "cell_type": "code",
      "metadata": {
        "id": "kMW61_DAMpGO"
      },
      "source": [
        "clusters = kmeans.labels_.tolist()\n",
        "clusters_dict = {'ano': list(df_estados.ano), 'uf': df_estados.uf, \n",
        "                 'regiao': df_estados.regiao, 'cluster': clusters}\n",
        "df_estados_clusters = pd.DataFrame(clusters_dict, \n",
        "                                   columns = ['cluster','ano', 'uf', 'regiao'])"
      ],
      "execution_count": 171,
      "outputs": []
    },
    {
      "cell_type": "code",
      "metadata": {
        "colab": {
          "base_uri": "https://localhost:8080/",
          "height": 424
        },
        "id": "jUmToa2trWMr",
        "outputId": "746dae2c-edbc-46fd-e14c-13e51b950df5"
      },
      "source": [
        "df_estados_clusters"
      ],
      "execution_count": 172,
      "outputs": [
        {
          "output_type": "execute_result",
          "data": {
            "text/html": [
              "<div>\n",
              "<style scoped>\n",
              "    .dataframe tbody tr th:only-of-type {\n",
              "        vertical-align: middle;\n",
              "    }\n",
              "\n",
              "    .dataframe tbody tr th {\n",
              "        vertical-align: top;\n",
              "    }\n",
              "\n",
              "    .dataframe thead th {\n",
              "        text-align: right;\n",
              "    }\n",
              "</style>\n",
              "<table border=\"1\" class=\"dataframe\">\n",
              "  <thead>\n",
              "    <tr style=\"text-align: right;\">\n",
              "      <th></th>\n",
              "      <th>cluster</th>\n",
              "      <th>ano</th>\n",
              "      <th>uf</th>\n",
              "      <th>regiao</th>\n",
              "    </tr>\n",
              "  </thead>\n",
              "  <tbody>\n",
              "    <tr>\n",
              "      <th>0</th>\n",
              "      <td>0</td>\n",
              "      <td>2015</td>\n",
              "      <td>Acre</td>\n",
              "      <td>NORTE</td>\n",
              "    </tr>\n",
              "    <tr>\n",
              "      <th>1</th>\n",
              "      <td>0</td>\n",
              "      <td>2015</td>\n",
              "      <td>Alagoas</td>\n",
              "      <td>NORDESTE</td>\n",
              "    </tr>\n",
              "    <tr>\n",
              "      <th>2</th>\n",
              "      <td>0</td>\n",
              "      <td>2015</td>\n",
              "      <td>Amapá</td>\n",
              "      <td>NORTE</td>\n",
              "    </tr>\n",
              "    <tr>\n",
              "      <th>3</th>\n",
              "      <td>4</td>\n",
              "      <td>2015</td>\n",
              "      <td>Amazonas</td>\n",
              "      <td>NORTE</td>\n",
              "    </tr>\n",
              "    <tr>\n",
              "      <th>4</th>\n",
              "      <td>2</td>\n",
              "      <td>2015</td>\n",
              "      <td>Bahia</td>\n",
              "      <td>NORDESTE</td>\n",
              "    </tr>\n",
              "    <tr>\n",
              "      <th>...</th>\n",
              "      <td>...</td>\n",
              "      <td>...</td>\n",
              "      <td>...</td>\n",
              "      <td>...</td>\n",
              "    </tr>\n",
              "    <tr>\n",
              "      <th>157</th>\n",
              "      <td>0</td>\n",
              "      <td>2020</td>\n",
              "      <td>Roraima</td>\n",
              "      <td>NORTE</td>\n",
              "    </tr>\n",
              "    <tr>\n",
              "      <th>158</th>\n",
              "      <td>0</td>\n",
              "      <td>2020</td>\n",
              "      <td>Santa Catarina</td>\n",
              "      <td>SUL</td>\n",
              "    </tr>\n",
              "    <tr>\n",
              "      <th>159</th>\n",
              "      <td>0</td>\n",
              "      <td>2020</td>\n",
              "      <td>Sergipe</td>\n",
              "      <td>NORDESTE</td>\n",
              "    </tr>\n",
              "    <tr>\n",
              "      <th>160</th>\n",
              "      <td>1</td>\n",
              "      <td>2020</td>\n",
              "      <td>São Paulo</td>\n",
              "      <td>SUDESTE</td>\n",
              "    </tr>\n",
              "    <tr>\n",
              "      <th>161</th>\n",
              "      <td>0</td>\n",
              "      <td>2020</td>\n",
              "      <td>Tocantins</td>\n",
              "      <td>NORTE</td>\n",
              "    </tr>\n",
              "  </tbody>\n",
              "</table>\n",
              "<p>162 rows × 4 columns</p>\n",
              "</div>"
            ],
            "text/plain": [
              "     cluster   ano              uf    regiao\n",
              "0          0  2015            Acre     NORTE\n",
              "1          0  2015         Alagoas  NORDESTE\n",
              "2          0  2015           Amapá     NORTE\n",
              "3          4  2015        Amazonas     NORTE\n",
              "4          2  2015           Bahia  NORDESTE\n",
              "..       ...   ...             ...       ...\n",
              "157        0  2020         Roraima     NORTE\n",
              "158        0  2020  Santa Catarina       SUL\n",
              "159        0  2020         Sergipe  NORDESTE\n",
              "160        1  2020       São Paulo   SUDESTE\n",
              "161        0  2020       Tocantins     NORTE\n",
              "\n",
              "[162 rows x 4 columns]"
            ]
          },
          "metadata": {},
          "execution_count": 172
        }
      ]
    },
    {
      "cell_type": "code",
      "metadata": {
        "colab": {
          "base_uri": "https://localhost:8080/",
          "height": 655
        },
        "id": "sbZo5Y8uvRON",
        "outputId": "33544f33-e3f7-413c-e261-a2c05d2f5941"
      },
      "source": [
        "plt.figure(figsize=(20, 10), dpi=80)\n",
        "dend = shc.dendrogram(shc.linkage(df_estados[columns], method='ward'))"
      ],
      "execution_count": 173,
      "outputs": [
        {
          "output_type": "display_data",
          "data": {
            "image/png": "[encoded data removed]",
            "text/plain": [
              "<Figure size 1600x800 with 1 Axes>"
            ]
          },
          "metadata": {
            "needs_background": "light"
          }
        }
      ]
    },
    {
      "cell_type": "markdown",
      "metadata": {
        "id": "3FbDFqyJt9Tv"
      },
      "source": [
        "## Rodando ***Hierárquico*** a partir do dataset tratado"
      ]
    },
    {
      "cell_type": "code",
      "metadata": {
        "id": "_FrEIoGp4X9M",
        "colab": {
          "base_uri": "https://localhost:8080/"
        },
        "outputId": "fa7efe1a-b962-488f-ed1b-d2798c79f9b3"
      },
      "source": [
        "agg_cluster = AgglomerativeClustering(affinity='euclidean', linkage='ward', n_clusters=5)\n",
        "agg_cluster.fit(df_estados[columns])"
      ],
      "execution_count": 174,
      "outputs": [
        {
          "output_type": "execute_result",
          "data": {
            "text/plain": [
              "AgglomerativeClustering(n_clusters=5)"
            ]
          },
          "metadata": {},
          "execution_count": 174
        }
      ]
    },
    {
      "cell_type": "code",
      "metadata": {
        "id": "eopQ2XzV4sg5"
      },
      "source": [
        "clusters_dict_agg = {'ano': list(df_estados.ano), \n",
        "                     'uf': df_estados.uf, \n",
        "                     'regiao': df_estados.regiao, \n",
        "                     'cluster': agg_cluster.labels_.tolist()}\n",
        "\n",
        "clusters_agg_df = pd.DataFrame(clusters_dict_agg, \n",
        "                               columns = ['cluster','ano', 'uf', 'regiao'])"
      ],
      "execution_count": 175,
      "outputs": []
    },
    {
      "cell_type": "code",
      "metadata": {
        "colab": {
          "base_uri": "https://localhost:8080/",
          "height": 424
        },
        "id": "tFcnwALV5qLf",
        "outputId": "b95f1cb5-cc8f-4fc5-e8fe-76a1dcb52f07"
      },
      "source": [
        "clusters_agg_df"
      ],
      "execution_count": 176,
      "outputs": [
        {
          "output_type": "execute_result",
          "data": {
            "text/html": [
              "<div>\n",
              "<style scoped>\n",
              "    .dataframe tbody tr th:only-of-type {\n",
              "        vertical-align: middle;\n",
              "    }\n",
              "\n",
              "    .dataframe tbody tr th {\n",
              "        vertical-align: top;\n",
              "    }\n",
              "\n",
              "    .dataframe thead th {\n",
              "        text-align: right;\n",
              "    }\n",
              "</style>\n",
              "<table border=\"1\" class=\"dataframe\">\n",
              "  <thead>\n",
              "    <tr style=\"text-align: right;\">\n",
              "      <th></th>\n",
              "      <th>cluster</th>\n",
              "      <th>ano</th>\n",
              "      <th>uf</th>\n",
              "      <th>regiao</th>\n",
              "    </tr>\n",
              "  </thead>\n",
              "  <tbody>\n",
              "    <tr>\n",
              "      <th>0</th>\n",
              "      <td>0</td>\n",
              "      <td>2015</td>\n",
              "      <td>Acre</td>\n",
              "      <td>NORTE</td>\n",
              "    </tr>\n",
              "    <tr>\n",
              "      <th>1</th>\n",
              "      <td>0</td>\n",
              "      <td>2015</td>\n",
              "      <td>Alagoas</td>\n",
              "      <td>NORDESTE</td>\n",
              "    </tr>\n",
              "    <tr>\n",
              "      <th>2</th>\n",
              "      <td>0</td>\n",
              "      <td>2015</td>\n",
              "      <td>Amapá</td>\n",
              "      <td>NORTE</td>\n",
              "    </tr>\n",
              "    <tr>\n",
              "      <th>3</th>\n",
              "      <td>0</td>\n",
              "      <td>2015</td>\n",
              "      <td>Amazonas</td>\n",
              "      <td>NORTE</td>\n",
              "    </tr>\n",
              "    <tr>\n",
              "      <th>4</th>\n",
              "      <td>4</td>\n",
              "      <td>2015</td>\n",
              "      <td>Bahia</td>\n",
              "      <td>NORDESTE</td>\n",
              "    </tr>\n",
              "    <tr>\n",
              "      <th>...</th>\n",
              "      <td>...</td>\n",
              "      <td>...</td>\n",
              "      <td>...</td>\n",
              "      <td>...</td>\n",
              "    </tr>\n",
              "    <tr>\n",
              "      <th>157</th>\n",
              "      <td>0</td>\n",
              "      <td>2020</td>\n",
              "      <td>Roraima</td>\n",
              "      <td>NORTE</td>\n",
              "    </tr>\n",
              "    <tr>\n",
              "      <th>158</th>\n",
              "      <td>0</td>\n",
              "      <td>2020</td>\n",
              "      <td>Santa Catarina</td>\n",
              "      <td>SUL</td>\n",
              "    </tr>\n",
              "    <tr>\n",
              "      <th>159</th>\n",
              "      <td>0</td>\n",
              "      <td>2020</td>\n",
              "      <td>Sergipe</td>\n",
              "      <td>NORDESTE</td>\n",
              "    </tr>\n",
              "    <tr>\n",
              "      <th>160</th>\n",
              "      <td>1</td>\n",
              "      <td>2020</td>\n",
              "      <td>São Paulo</td>\n",
              "      <td>SUDESTE</td>\n",
              "    </tr>\n",
              "    <tr>\n",
              "      <th>161</th>\n",
              "      <td>0</td>\n",
              "      <td>2020</td>\n",
              "      <td>Tocantins</td>\n",
              "      <td>NORTE</td>\n",
              "    </tr>\n",
              "  </tbody>\n",
              "</table>\n",
              "<p>162 rows × 4 columns</p>\n",
              "</div>"
            ],
            "text/plain": [
              "     cluster   ano              uf    regiao\n",
              "0          0  2015            Acre     NORTE\n",
              "1          0  2015         Alagoas  NORDESTE\n",
              "2          0  2015           Amapá     NORTE\n",
              "3          0  2015        Amazonas     NORTE\n",
              "4          4  2015           Bahia  NORDESTE\n",
              "..       ...   ...             ...       ...\n",
              "157        0  2020         Roraima     NORTE\n",
              "158        0  2020  Santa Catarina       SUL\n",
              "159        0  2020         Sergipe  NORDESTE\n",
              "160        1  2020       São Paulo   SUDESTE\n",
              "161        0  2020       Tocantins     NORTE\n",
              "\n",
              "[162 rows x 4 columns]"
            ]
          },
          "metadata": {},
          "execution_count": 176
        }
      ]
    },
    {
      "cell_type": "code",
      "metadata": {
        "colab": {
          "base_uri": "https://localhost:8080/"
        },
        "id": "OUlMNq6i7We2",
        "outputId": "72161180-2a08-498e-ea33-08582b3bfe33"
      },
      "source": [
        "agg_score = metrics.silhouette_score(df_estados[columns], \n",
        "                                     agg_cluster.labels_, \n",
        "                                     metric='euclidean')\n",
        "\n",
        "print(f\"Hierarchy Score: {agg_score}\")"
      ],
      "execution_count": 177,
      "outputs": [
        {
          "output_type": "stream",
          "name": "stdout",
          "text": [
            "Hierarchy Score: 0.5414118997168986\n"
          ]
        }
      ]
    },
    {
      "cell_type": "code",
      "metadata": {
        "colab": {
          "base_uri": "https://localhost:8080/"
        },
        "id": "iRdfZk8e7csy",
        "outputId": "2e14c4a5-f195-40de-9b6c-897887967c0f"
      },
      "source": [
        "k_score = metrics.silhouette_score(df_estados[columns], \n",
        "                                   kmeans.labels_, \n",
        "                                   metric='euclidean')\n",
        "\n",
        "print(f\"K-Means Score: {k_score}\")"
      ],
      "execution_count": 178,
      "outputs": [
        {
          "output_type": "stream",
          "name": "stdout",
          "text": [
            "K-Means Score: 0.5501577746703735\n"
          ]
        }
      ]
    },
    {
      "cell_type": "code",
      "metadata": {
        "id": "s7SAa61A33OE"
      },
      "source": [
        "df_estados_clusters.to_csv(\"/content/cluster_estados.csv\", header=True)"
      ],
      "execution_count": 194,
      "outputs": []
    }
  ]
}